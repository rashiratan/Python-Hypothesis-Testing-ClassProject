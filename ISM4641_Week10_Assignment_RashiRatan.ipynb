{
 "cells": [
  {
   "cell_type": "markdown",
   "metadata": {
    "vscode": {
     "languageId": "plaintext"
    }
   },
   "source": [
    "# Assignment: Hypothesis Testing for Business Analytics"
   ]
  },
  {
   "cell_type": "markdown",
   "metadata": {},
   "source": [
    "This assignment will demonstrate my ability to: \n",
    "1. Formulate and test statistical hypotheses based on business data. \n",
    "2. Use one-sample, two-sample, and paired t‑tests to compare means. \n",
    "3. Compute and interpret 95% confidence intervals. \n",
    "4. Apply these statistical methods to real-world business scenarios, supporting decision-making for TechTrends."
   ]
  },
  {
   "cell_type": "code",
   "execution_count": 56,
   "metadata": {},
   "outputs": [],
   "source": [
    "import numpy as np\n",
    "from scipy import stats\n",
    "import pandas as pd\n",
    "\n",
    "sales_df = pd.read_csv('sales-data.csv')\n",
    "prod_perf_df = pd.read_csv('product-performance.csv')"
   ]
  },
  {
   "cell_type": "markdown",
   "metadata": {},
   "source": [
    "## Task 1: Sales Performance Analysis Using Hypothesis Testing"
   ]
  },
  {
   "cell_type": "markdown",
   "metadata": {},
   "source": [
    "### Part 1"
   ]
  },
  {
   "cell_type": "code",
   "execution_count": 57,
   "metadata": {},
   "outputs": [
    {
     "name": "stdout",
     "output_type": "stream",
     "text": [
      "The average monthly sales in 2024: $632916.67 \n",
      "\n",
      "One-Sample T-Test: \n",
      "Testing if average monthly sales in 2024 differ significantly from a benchmark of $650,000:\n",
      "     T-Statistic: -0.4641389266211005\n",
      "     P-value: 0.6515986342131292\n",
      "\n",
      "Result: The average monthly sales in 2024 ($632916.67) is NOT significantly different from the benchmark of $650,000.\n"
     ]
    }
   ],
   "source": [
    "#defining benchmark\n",
    "benchmark = 650000\n",
    "\n",
    "#calculate average monthly sales in 2024\n",
    "sales_2024 = sales_df[sales_df['Year'] == 2024]\n",
    "mean = sales_2024['Sales'].mean()\n",
    "print(f'The average monthly sales in 2024: ${mean:.2f} \\n')\n",
    "\n",
    "# Perform a one-sample t-test\n",
    "t_stat1, p_value1 = stats.ttest_1samp(sales_2024['Sales'], benchmark)\n",
    "print(\"One-Sample T-Test: \\nTesting if average monthly sales in 2024 differ significantly from a benchmark of $650,000:\")\n",
    "print(\"     T-Statistic:\", t_stat1)\n",
    "print(\"     P-value:\", p_value1)\n",
    "\n",
    "#interpreting the results\n",
    "if p_value1 < 0.05:\n",
    "    print(f'\\nResult: The average monthly sales in 2024 (${mean:.2f}) is significantly different from the benchmark of $650,000.')\n",
    "else:\n",
    "    print(f'\\nResult: The average monthly sales in 2024 (${mean:.2f}) is NOT significantly different from the benchmark of $650,000.')\n"
   ]
  },
  {
   "cell_type": "markdown",
   "metadata": {},
   "source": [
    "### Part 2"
   ]
  },
  {
   "cell_type": "code",
   "execution_count": null,
   "metadata": {},
   "outputs": [
    {
     "name": "stdout",
     "output_type": "stream",
     "text": [
      "Average sales in 2023: $580000.00\n",
      "Average sales in 2024: $632916.67\n",
      "\n",
      "Two-Sample T-Test: Monthly Average Sales 2023-24 Comparison\n",
      "T-Statistic: -1.089005096540923\n",
      "P-value: 0.28793754034624225\n",
      "\n",
      "Result: The average monthly sales in 2024 (632916.67) is NOT significantly different from that of 2023.\n"
     ]
    }
   ],
   "source": [
    "#calculate and print the means of average sales for both years\n",
    "avg_sales_2024 = sales_df[sales_df['Year'] == 2024]['Sales'].mean()\n",
    "avg_sales_2023 = sales_df[sales_df['Year'] == 2023]['Sales'].mean()\n",
    "print(f\"Average sales in 2023: ${avg_sales_2023:.2f}\")\n",
    "print(f\"Average sales in 2024: ${avg_sales_2024:.2f}\")\n",
    "\n",
    "#perform two-sample t-test\n",
    "t_stat2, p_value2 = stats.ttest_ind(sales_df[sales_df['Year'] == 2023]['Sales'], sales_df[sales_df['Year'] == 2024]['Sales'])\n",
    "print(\"\\nTwo-Sample T-Test: Monthly Average Sales 2023-24 Comparison\")\n",
    "print(\"T-Statistic:\", t_stat2)\n",
    "print(\"P-value:\", p_value2)\n",
    "\n",
    "#interpreting the results\n",
    "if p_value2 < 0.05:\n",
    "    print(f'\\nResult: The average monthly sales in 2024 (${mean:.2f}) is significantly different from that of 2023.')\n",
    "else:\n",
    "    print(f'\\nResult: The average monthly sales in 2024 (${mean:.2f}) is NOT significantly different from that of 2023.')\n",
    "\n",
    "\n"
   ]
  },
  {
   "cell_type": "markdown",
   "metadata": {},
   "source": [
    "Final Report: The average monthly sales in 2024 is not significantly different from the benchmark defined, but remains below it. It also is not significantly different from the average monthly sales in 2023, which signals significant room for improvement. Sales campaigns to boost the company's numbers should be formulated."
   ]
  },
  {
   "cell_type": "markdown",
   "metadata": {},
   "source": [
    "## Task 2: Product Performance Evaluation"
   ]
  },
  {
   "cell_type": "markdown",
   "metadata": {},
   "source": [
    "### Part 1"
   ]
  },
  {
   "cell_type": "code",
   "execution_count": 61,
   "metadata": {},
   "outputs": [
    {
     "name": "stdout",
     "output_type": "stream",
     "text": [
      "Average Profit Margin for all products: 30.7%\n",
      "One-Sample T-Test: \n",
      "Testing if average profit margin differs significantly from a benchmark of 30.0%:\n",
      "     T-Statistic: 0.31318874279274383\n",
      "     P-value: 0.7612735531707355\n",
      "\n",
      "Result: The average profit margin for all products (30.7%) is NOT significantly different from the benchmark of 30.0%.\n",
      "The average profit margin aligns with the expected value. This implies that the company is operating efficiently, and no immediate major changes are needed.\n"
     ]
    }
   ],
   "source": [
    "#define benchmark\n",
    "benchmark = 30.0\n",
    "\n",
    "#calculate average profit margin\n",
    "mean_pm = prod_perf_df['Profit_Margin'].mean()\n",
    "print(f'Average Profit Margin for all products: {mean_pm:.1f}%')\n",
    "\n",
    "# Perform a one-sample t-test\n",
    "t_stat3, p_value3 = stats.ttest_1samp(prod_perf_df['Profit_Margin'], benchmark)\n",
    "print(\"One-Sample T-Test: \\nTesting if average profit margin differs significantly from a benchmark of 30.0%:\")\n",
    "print(\"     T-Statistic:\", t_stat3)\n",
    "print(\"     P-value:\", p_value3)\n",
    "\n",
    "#interpreting the results\n",
    "if p_value3 < 0.05:\n",
    "    print(f'\\nResult: The average profit margin for all products ({mean_pm:.1f}%) is significantly different from the benchmark of 30.0%.')\n",
    "    print(f'This implies the need for a change in product strategy where products with lower profit margins require optimization or may be shut down.')\n",
    "else:\n",
    "    print(f'\\nResult: The average profit margin for all products ({mean_pm:.1f}%) is NOT significantly different from the benchmark of 30.0%.')\n",
    "    print('The average profit margin aligns with the expected value. This implies that the company is operating efficiently, and no immediate major changes are needed.')\n",
    "\n"
   ]
  },
  {
   "cell_type": "markdown",
   "metadata": {},
   "source": [
    "### Part 2"
   ]
  },
  {
   "cell_type": "code",
   "execution_count": 62,
   "metadata": {},
   "outputs": [
    {
     "name": "stdout",
     "output_type": "stream",
     "text": [
      "\n",
      "Two-Sample T-Test: Department Productivity\n",
      "T-Statistic: 4.971349055451956\n",
      "P-value: 0.0010912543527339497\n",
      "\n",
      "Result: The average ROI is significantly different between high and low revenue categories.\n",
      "\n",
      "Business Action: The company must consider investing more in high revenue categories for better returns.\n"
     ]
    }
   ],
   "source": [
    "#define threshold\n",
    "revenue_threshold = prod_perf_df['Revenue'].median()\n",
    "\n",
    "# Step 2: Create two groups based on the threshold\n",
    "high_revenue = prod_perf_df[prod_perf_df['Revenue'] > revenue_threshold]\n",
    "low_revenue = prod_perf_df[prod_perf_df['Revenue'] <= revenue_threshold]\n",
    "\n",
    "\n",
    "# Perform a two-sample t-test\n",
    "t_stat4, p_value4 = stats.ttest_ind(high_revenue['ROI'], low_revenue['ROI'])\n",
    "print(\"\\nTwo-Sample T-Test: Department Productivity\")\n",
    "print(\"T-Statistic:\", t_stat4)\n",
    "print(\"P-value:\", p_value4)\n",
    "\n",
    "#Interpretation and business implication based on the p-value\n",
    "if p_value4 < 0.05:\n",
    "    print(\"\\nResult: The average ROI is significantly different between high and low revenue categories.\")\n",
    "    print(\"\\nBusiness Action: The company must consider investing more in high revenue categories for better returns.\")\n",
    "\n",
    "else:\n",
    "    print(\"\\nResult: The average ROI is not significantly different between high and low revenue categories.\")\n",
    "    print(\"\\nBusiness Action: If there is no significant difference, the ROI might be similar regardless of the revenue size, so other factors should be considered.\")\n"
   ]
  }
 ],
 "metadata": {
  "kernelspec": {
   "display_name": "Python 3",
   "language": "python",
   "name": "python3"
  },
  "language_info": {
   "codemirror_mode": {
    "name": "ipython",
    "version": 3
   },
   "file_extension": ".py",
   "mimetype": "text/x-python",
   "name": "python",
   "nbconvert_exporter": "python",
   "pygments_lexer": "ipython3",
   "version": "3.11.9"
  }
 },
 "nbformat": 4,
 "nbformat_minor": 2
}
