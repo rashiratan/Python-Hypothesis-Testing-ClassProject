{
 "cells": [
  {
   "cell_type": "markdown",
   "metadata": {
    "vscode": {
     "languageId": "plaintext"
    }
   },
   "source": [
    "# Assignment: Hypothesis Testing for Business Analytics"
   ]
  },
  {
   "cell_type": "markdown",
   "metadata": {},
   "source": [
    "This assignment will demonstrate my ability to: \n",
    "1. Formulate and test statistical hypotheses based on business data. \n",
    "2. Use one-sample, two-sample, and paired t‑tests to compare means. \n",
    "3. Compute and interpret 95% confidence intervals. \n",
    "4. Apply these statistical methods to real-world business scenarios, supporting decision-making for TechTrends."
   ]
  },
  {
   "cell_type": "code",
   "execution_count": 35,
   "metadata": {},
   "outputs": [],
   "source": [
    "import numpy as np\n",
    "from scipy import stats\n",
    "import pandas as pd\n",
    "\n",
    "sales_df = pd.read_csv('sales-data.csv')\n",
    "prod_perf_df = pd.read_csv('product-performance.csv')"
   ]
  },
  {
   "cell_type": "markdown",
   "metadata": {},
   "source": [
    "## Task 1: Sales Performance Analysis Using Hypothesis Testing"
   ]
  },
  {
   "cell_type": "markdown",
   "metadata": {},
   "source": [
    "### Part 1"
   ]
  },
  {
   "cell_type": "code",
   "execution_count": null,
   "metadata": {},
   "outputs": [
    {
     "name": "stdout",
     "output_type": "stream",
     "text": [
      "The average monthly sales in 2024: $632916.67 \n",
      "\n",
      "One-Sample T-Test: \n",
      "Testing if average monthly sales in 2024 differ significantly from a benchmark of $650,000\n",
      "     T-Statistic: -0.4641389266211005\n",
      "     P-value: 0.6515986342131292\n",
      "\n",
      "Result: The average monthly sales in 2024 (632916.67) is NOT significantly different from the benchmark of $650,000.\n"
     ]
    }
   ],
   "source": [
    "#defining benchmark\n",
    "benchmark = 650000\n",
    "\n",
    "#calculate average monthly sales in 2024\n",
    "sales_2024 = sales_df[sales_df['Year'] == 2024]\n",
    "mean = sales_2024['Sales'].mean()\n",
    "print(f'The average monthly sales in 2024: ${mean:.2f} \\n')\n",
    "\n",
    "# Perform a one-sample t-test\n",
    "t_stat, p_value = stats.ttest_1samp(sales_2024['Sales'], benchmark)\n",
    "print(\"One-Sample T-Test: \\nTesting if average monthly sales in 2024 differ significantly from a benchmark of $650,000:\")\n",
    "print(\"     T-Statistic:\", t_stat)\n",
    "print(\"     P-value:\", p_value)\n",
    "\n",
    "#interpreting the results\n",
    "if p_value < 0.05:\n",
    "    print(f'\\nResult: The average monthly sales in 2024 ({mean:.2f}) is significantly different from the benchmark of $650,000.')\n",
    "else:\n",
    "    print(f'\\nResult: The average monthly sales in 2024 ({mean:.2f}) is NOT significantly different from the benchmark of $650,000.')\n"
   ]
  },
  {
   "cell_type": "markdown",
   "metadata": {},
   "source": [
    "### Part 2"
   ]
  },
  {
   "cell_type": "code",
   "execution_count": null,
   "metadata": {},
   "outputs": [
    {
     "name": "stdout",
     "output_type": "stream",
     "text": [
      "Average sales in 2023: $580000.00\n",
      "Average sales in 2024: $632916.67\n",
      "\n",
      "Two-Sample T-Test: Monthly Average Sales 2023-24 Comparison\n",
      "T-Statistic: -1.089005096540923\n",
      "P-value: 0.28793754034624225\n",
      "\n",
      "Result: The average monthly sales in 2024 (632916.67) is NOT significantly different from the benchmark of $650,000.\n"
     ]
    }
   ],
   "source": [
    "#calculate and print the means of average sales for both years\n",
    "avg_sales_2024 = sales_df[sales_df['Year'] == 2024]['Sales'].mean()\n",
    "avg_sales_2023 = sales_df[sales_df['Year'] == 2023]['Sales'].mean()\n",
    "print(f\"Average sales in 2023: ${avg_sales_2023:.2f}\")\n",
    "print(f\"Average sales in 2024: ${avg_sales_2024:.2f}\")\n",
    "\n",
    "#perform two-sample t-test\n",
    "t_stat, p_value = stats.ttest_ind(sales_df[sales_df['Year'] == 2023]['Sales'], sales_df[sales_df['Year'] == 2024]['Sales'])\n",
    "print(\"\\nTwo-Sample T-Test: Monthly Average Sales 2023-24 Comparison\")\n",
    "print(\"T-Statistic:\", t_stat)\n",
    "print(\"P-value:\", p_value)\n",
    "\n",
    "#interpreting the results\n",
    "if p_value < 0.05:\n",
    "    print(f'\\nResult: The average monthly sales in 2024 ({mean:.2f}) is significantly different from that of 2023.')\n",
    "else:\n",
    "    print(f'\\nResult: The average monthly sales in 2024 ({mean:.2f}) is NOT significantly different from that of 2023.')\n"
   ]
  }
 ],
 "metadata": {
  "kernelspec": {
   "display_name": "Python 3",
   "language": "python",
   "name": "python3"
  },
  "language_info": {
   "codemirror_mode": {
    "name": "ipython",
    "version": 3
   },
   "file_extension": ".py",
   "mimetype": "text/x-python",
   "name": "python",
   "nbconvert_exporter": "python",
   "pygments_lexer": "ipython3",
   "version": "3.11.9"
  }
 },
 "nbformat": 4,
 "nbformat_minor": 2
}
